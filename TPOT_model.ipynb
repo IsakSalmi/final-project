{
 "cells": [
  {
   "cell_type": "code",
   "execution_count": 7,
   "id": "initial_id",
   "metadata": {
    "collapsed": true,
    "ExecuteTime": {
     "end_time": "2024-01-07T15:22:11.509069100Z",
     "start_time": "2024-01-07T15:22:08.615807Z"
    }
   },
   "outputs": [
    {
     "name": "stderr",
     "output_type": "stream",
     "text": [
      "C:\\Users\\jonas\\AppData\\Local\\Temp\\ipykernel_2976\\1987774501.py:62: SettingWithCopyWarning: \n",
      "A value is trying to be set on a copy of a slice from a DataFrame.\n",
      "Try using .loc[row_indexer,col_indexer] = value instead\n",
      "\n",
      "See the caveats in the documentation: https://pandas.pydata.org/pandas-docs/stable/user_guide/indexing.html#returning-a-view-versus-a-copy\n",
      "  prediction_df['M/F'] = prediction_df['M/F'].apply(lambda x: gender_to_numeric(x))\n"
     ]
    }
   ],
   "source": [
    "import pandas as pd\n",
    "import numpy as np\n",
    "\n",
    "li = [pd.read_csv(\"dataset/marathon_results_2016.csv\"), pd.read_csv(\"dataset/marathon_results_2017.csv\"),\n",
    "      pd.read_csv(\"dataset/marathon_results_2015.csv\")]\n",
    "df = pd.concat(li,axis=0,ignore_index=True)\n",
    "\n",
    "def time_to_min(string):\n",
    "    if string != '-':\n",
    "        time_segments = string.split(':')\n",
    "        hours = int(time_segments[0])\n",
    "        mins = int(time_segments[1])\n",
    "        sec = int(time_segments[2])\n",
    "        time = hours*60 + mins + np.true_divide(sec,60)\n",
    "        return time\n",
    "    else:\n",
    "        return -1\n",
    "\n",
    "def gender_to_numeric(value):\n",
    "    if value == 'M':\n",
    "        return 0\n",
    "    else:\n",
    "        return 1\n",
    "\n",
    "df['Half_min'] = df.Half.apply(lambda x: time_to_min(x))\n",
    "df['Full_min'] = df['Official Time'].apply(lambda x: time_to_min(x))\n",
    "df['split_ratio'] = (df['Full_min'] - df['Half_min'])/(df['Half_min'])\n",
    "\n",
    "df_split = df[df.Half_min > 0]\n",
    "\n",
    "df['5K_mins'] = df['5K'].apply(lambda x: time_to_min(x))\n",
    "df['10K_mins'] = df['10K'].apply(lambda x: time_to_min(x))\n",
    "df['10K_mins'] = df['10K_mins'] - df['5K_mins'] \n",
    "\n",
    "df['15K_mins'] = df['15K'].apply(lambda x: time_to_min(x))\n",
    "df['15K_mins'] = df['15K_mins'] - df['10K_mins'] -  df['5K_mins']\n",
    "\n",
    "df['20K_mins'] = df['20K'].apply(lambda x: time_to_min(x))\n",
    "df['20K_mins'] = df['20K_mins'] -  df['15K_mins'] - df['10K_mins'] -  df['5K_mins']\n",
    "\n",
    "df['25K_mins'] = df['25K'].apply(lambda x: time_to_min(x))\n",
    "df['25K_mins'] = df['25K_mins'] - df['20K_mins'] -  df['15K_mins'] - df['10K_mins'] -  df['5K_mins']\n",
    "\n",
    "df['30K_mins'] = df['30K'].apply(lambda x: time_to_min(x))\n",
    "df['30K_mins'] = df['30K_mins'] -df['25K_mins'] - df['20K_mins'] -  df['15K_mins'] - df['10K_mins'] -  df['5K_mins']\n",
    "\n",
    "df['35K_mins'] = df['35K'].apply(lambda x: time_to_min(x))\n",
    "df['35K_mins'] = df['35K_mins'] -df['30K_mins'] -df['25K_mins'] - df['20K_mins'] -  df['15K_mins'] - df['10K_mins'] -  df['5K_mins']\n",
    "\n",
    "df['40K_mins'] = df['40K'].apply(lambda x: time_to_min(x))\n",
    "df['40K_mins'] = df['40K_mins'] -  df['35K_mins'] -df['30K_mins'] -df['25K_mins'] - df['20K_mins'] -  df['15K_mins'] - df['10K_mins'] -  df['5K_mins']\n",
    "\n",
    "columns = ['20K_mins','15K_mins','10K_mins','5K_mins']\n",
    "df['avg'] = df[columns].mean(axis = 1)\n",
    "df['stdev'] = df[columns].std(axis = 1)\n",
    "\n",
    "df_split = df[(~(df['5K'] == '-')) &(~(df['10K'] == '-'))&(~(df['15K'] == '-'))&(~(df['20K'] == '-'))&(~(df['25K'] == '-')) &(~(df['30K'] == '-')) &(~(df['35K'] == '-')) &(~(df['40K'] == '-'))]\n",
    "df_split = df_split[df_split.split_ratio>0]\n",
    "\n",
    "\n",
    "prediction_df = df_split[['Age','M/F', 'Half_min', 'Full_min','split_ratio','5K_mins','10K_mins','15K_mins','20K_mins','25K_mins', '30K_mins', '35K_mins','40K_mins', 'stdev']] \n",
    "prediction_df['M/F'] = prediction_df['M/F'].apply(lambda x: gender_to_numeric(x))"
   ]
  },
  {
   "cell_type": "code",
   "execution_count": 8,
   "outputs": [],
   "source": [
    "INDATA = ['5K_mins', '10K_mins', '15K_mins', '20K_mins', 'Half_min', 'M/F']"
   ],
   "metadata": {
    "collapsed": false,
    "ExecuteTime": {
     "end_time": "2024-01-07T15:22:11.509610800Z",
     "start_time": "2024-01-07T15:22:11.504873800Z"
    }
   },
   "id": "9745343dd998c843"
  },
  {
   "cell_type": "code",
   "execution_count": null,
   "outputs": [
    {
     "data": {
      "text/plain": "Optimization Progress:   0%|          | 0/300 [00:00<?, ?pipeline/s]",
      "application/vnd.jupyter.widget-view+json": {
       "version_major": 2,
       "version_minor": 0,
       "model_id": "e11a8d231b3641c4859c0f13bf3501b6"
      }
     },
     "metadata": {},
     "output_type": "display_data"
    },
    {
     "name": "stdout",
     "output_type": "stream",
     "text": [
      "\n",
      "Generation 1 - Current best internal CV score: -7.542232643410633\n",
      "\n",
      "\n",
      "TPOT closed during evaluation in one generation.\n",
      "WARNING: TPOT may not provide a good pipeline if TPOT is stopped/interrupted in a early generation.\n",
      "\n",
      "\n",
      "TPOT closed prematurely. Will use the current best pipeline.\n"
     ]
    }
   ],
   "source": [
    "from tpot import TPOTRegressor\n",
    "\n",
    "X = prediction_df[INDATA]\n",
    "y = prediction_df['Full_min']\n",
    "\n",
    "tpot_model = TPOTRegressor(generations=5, population_size=50, scoring='neg_mean_absolute_error', cv=5, verbosity=2, random_state=1, n_jobs=-1)\n",
    "\n",
    "tpot_model.fit(X, y)"
   ],
   "metadata": {
    "collapsed": false,
    "is_executing": true,
    "ExecuteTime": {
     "start_time": "2024-01-07T15:22:11.509610800Z"
    }
   },
   "id": "53c23db668147a"
  },
  {
   "cell_type": "code",
   "execution_count": null,
   "outputs": [],
   "source": [
    "from sklearn.model_selection import train_test_split\n",
    "\n",
    "traindf, testdf = train_test_split(prediction_df, test_size = 0.2,random_state=60)\n",
    "\n",
    "X_train = traindf[INDATA]\n",
    "y_train = traindf['Full_min']\n",
    "\n",
    "X_test = testdf[INDATA]\n",
    "y_test = testdf['Full_min']"
   ],
   "metadata": {
    "collapsed": false,
    "is_executing": true
   },
   "id": "71faf6a5983a491c"
  },
  {
   "cell_type": "code",
   "execution_count": null,
   "outputs": [],
   "source": [
    "from numpy import sqrt\n",
    "from sklearn.metrics import mean_squared_error\n",
    "\n",
    "tpot_prediction = tpot_model.predict(X_test)\n",
    "regression_error = tpot_prediction - y_test\n",
    "print('\\nLinearRegression------------------------------')\n",
    "print('R sqruare of regression...', tpot_model.score(X_test,y_test))\n",
    "print('RMSE of regression...', sqrt(mean_squared_error(y_test, tpot_prediction)))"
   ],
   "metadata": {
    "collapsed": false,
    "is_executing": true
   },
   "id": "b0d2d46ab9bb5a32"
  }
 ],
 "metadata": {
  "kernelspec": {
   "display_name": "Python 3",
   "language": "python",
   "name": "python3"
  },
  "language_info": {
   "codemirror_mode": {
    "name": "ipython",
    "version": 2
   },
   "file_extension": ".py",
   "mimetype": "text/x-python",
   "name": "python",
   "nbconvert_exporter": "python",
   "pygments_lexer": "ipython2",
   "version": "2.7.6"
  }
 },
 "nbformat": 4,
 "nbformat_minor": 5
}

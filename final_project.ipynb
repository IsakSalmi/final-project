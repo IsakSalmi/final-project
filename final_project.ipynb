{
 "cells": [
  {
   "cell_type": "code",
   "execution_count": 5,
   "outputs": [],
   "source": [],
   "metadata": {
    "collapsed": false,
    "ExecuteTime": {
     "end_time": "2024-01-05T15:25:14.828172300Z",
     "start_time": "2024-01-05T15:25:14.695387700Z"
    }
   },
   "id": "initial_id"
  },
  {
   "cell_type": "code",
   "execution_count": 6,
   "outputs": [
    {
     "name": "stdout",
     "output_type": "stream",
     "text": [
      "       Age  M/F    Half_min    Full_min  split_ratio    5K_mins   10K_mins  \\\n",
      "0       21    0   66.750000  132.750000     0.988764  15.783333  15.550000   \n",
      "1       26    0   66.766667  133.533333     1.000000  15.783333  15.566667   \n",
      "2       31    0   66.733333  134.033333     1.008492  15.766667  15.566667   \n",
      "3       33    0   66.766667  134.083333     1.008238  15.766667  15.583333   \n",
      "4       23    0   66.766667  135.750000     1.033200  15.766667  15.583333   \n",
      "...    ...  ...         ...         ...          ...        ...        ...   \n",
      "79633   64    1  223.766667  458.933333     1.050946  50.250000  53.266667   \n",
      "79634   61    1  227.916667  471.500000     1.068739  48.600000  51.050000   \n",
      "79635   66    1  228.350000  479.550000     1.100066  53.050000  54.216667   \n",
      "79636   53    0  223.583333  480.616667     1.149609  49.066667  51.133333   \n",
      "79637   62    0  220.600000  486.016667     1.203158  40.233333  48.066667   \n",
      "\n",
      "        15K_mins   20K_mins   25K_mins   30K_mins   35K_mins   40K_mins  \\\n",
      "0      15.783333  16.116667  16.016667  15.033333  16.116667  15.583333   \n",
      "1      15.783333  16.100000  16.016667  15.033333  16.116667  15.583333   \n",
      "2      15.783333  16.100000  16.033333  15.500000  16.050000  15.983333   \n",
      "3      15.766667  16.116667  16.033333  15.483333  16.050000  15.983333   \n",
      "4      15.783333  16.100000  16.066667  15.466667  16.733333  16.683333   \n",
      "...          ...        ...        ...        ...        ...        ...   \n",
      "79633  53.366667  55.550000  53.450000  53.850000  57.583333  56.250000   \n",
      "79634  59.566667  56.750000  56.766667  59.233333  56.966667  57.383333   \n",
      "79635  54.483333  55.366667  56.733333  65.083333  59.916667  57.450000   \n",
      "79636  53.316667  58.166667  57.650000  61.850000  62.400000  62.050000   \n",
      "79637  58.466667  61.916667  67.416667  67.633333  67.783333  49.950000   \n",
      "\n",
      "          stdev  \n",
      "0      0.233135  \n",
      "1      0.219638  \n",
      "2      0.220427  \n",
      "3      0.222985  \n",
      "4      0.214519  \n",
      "...         ...  \n",
      "79633  2.177431  \n",
      "79634  5.046864  \n",
      "79635  0.955527  \n",
      "79636  3.904067  \n",
      "79637  9.898937  \n",
      "\n",
      "[79038 rows x 14 columns]\n"
     ]
    },
    {
     "name": "stderr",
     "output_type": "stream",
     "text": [
      "C:\\Users\\jonas\\AppData\\Local\\Temp\\ipykernel_10776\\3394912097.py:74: SettingWithCopyWarning: \n",
      "A value is trying to be set on a copy of a slice from a DataFrame.\n",
      "Try using .loc[row_indexer,col_indexer] = value instead\n",
      "\n",
      "See the caveats in the documentation: https://pandas.pydata.org/pandas-docs/stable/user_guide/indexing.html#returning-a-view-versus-a-copy\n",
      "  prediction_df['M/F'] = prediction_df['M/F'].apply(lambda x: gender_to_numeric(x))\n"
     ]
    }
   ],
   "source": [
    "import pandas as pd\n",
    "import numpy as np \n",
    "import matplotlib.pyplot as plt \n",
    "from xgboost import XGBRegressor \n",
    "from sklearn.model_selection import train_test_split  \n",
    "from math import sqrt\n",
    "from sklearn.metrics import mean_squared_error\n",
    "import seaborn as sns\n",
    "from sklearn.preprocessing import StandardScaler\n",
    "from sklearn.linear_model import LinearRegression\n",
    "from sklearn.model_selection import learning_curve\n",
    "from sklearn.model_selection import cross_val_score\n",
    "from sklearn.model_selection import StratifiedKFold\n",
    "\n",
    "\n",
    "li = [pd.read_csv(\"dataset/marathon_results_2016.csv\"), pd.read_csv(\"dataset/marathon_results_2017.csv\"),\n",
    "      pd.read_csv(\"dataset/marathon_results_2015.csv\")]\n",
    "df = pd.concat(li,axis=0,ignore_index=True)\n",
    "\n",
    "def time_to_min(string):\n",
    "    if string != '-':\n",
    "        time_segments = string.split(':')\n",
    "        hours = int(time_segments[0])\n",
    "        mins = int(time_segments[1])\n",
    "        sec = int(time_segments[2])\n",
    "        time = hours*60 + mins + np.true_divide(sec,60)\n",
    "        return time\n",
    "    else:\n",
    "        return -1\n",
    "\n",
    "def gender_to_numeric(value):\n",
    "    if value == 'M':\n",
    "        return 0\n",
    "    else:\n",
    "        return 1\n",
    "\n",
    "df['Half_min'] = df.Half.apply(lambda x: time_to_min(x))\n",
    "df['Full_min'] = df['Official Time'].apply(lambda x: time_to_min(x))\n",
    "df['split_ratio'] = (df['Full_min'] - df['Half_min'])/(df['Half_min'])\n",
    "\n",
    "df_split = df[df.Half_min > 0]\n",
    "\n",
    "df['5K_mins'] = df['5K'].apply(lambda x: time_to_min(x))\n",
    "df['10K_mins'] = df['10K'].apply(lambda x: time_to_min(x))\n",
    "df['10K_mins'] = df['10K_mins'] - df['5K_mins'] \n",
    "\n",
    "df['15K_mins'] = df['15K'].apply(lambda x: time_to_min(x))\n",
    "df['15K_mins'] = df['15K_mins'] - df['10K_mins'] -  df['5K_mins']\n",
    "\n",
    "df['20K_mins'] = df['20K'].apply(lambda x: time_to_min(x))\n",
    "df['20K_mins'] = df['20K_mins'] -  df['15K_mins'] - df['10K_mins'] -  df['5K_mins']\n",
    "\n",
    "df['25K_mins'] = df['25K'].apply(lambda x: time_to_min(x))\n",
    "df['25K_mins'] = df['25K_mins'] - df['20K_mins'] -  df['15K_mins'] - df['10K_mins'] -  df['5K_mins']\n",
    "\n",
    "df['30K_mins'] = df['30K'].apply(lambda x: time_to_min(x))\n",
    "df['30K_mins'] = df['30K_mins'] -df['25K_mins'] - df['20K_mins'] -  df['15K_mins'] - df['10K_mins'] -  df['5K_mins']\n",
    "\n",
    "df['35K_mins'] = df['35K'].apply(lambda x: time_to_min(x))\n",
    "df['35K_mins'] = df['35K_mins'] -df['30K_mins'] -df['25K_mins'] - df['20K_mins'] -  df['15K_mins'] - df['10K_mins'] -  df['5K_mins']\n",
    "\n",
    "df['40K_mins'] = df['40K'].apply(lambda x: time_to_min(x))\n",
    "df['40K_mins'] = df['40K_mins'] -  df['35K_mins'] -df['30K_mins'] -df['25K_mins'] - df['20K_mins'] -  df['15K_mins'] - df['10K_mins'] -  df['5K_mins']\n",
    "\n",
    "columns = ['20K_mins','15K_mins','10K_mins','5K_mins']\n",
    "df['avg'] = df[columns].mean(axis = 1)\n",
    "df['stdev'] = df[columns].std(axis = 1)\n",
    "\n",
    "df_split = df[(~(df['5K'] == '-')) &(~(df['10K'] == '-'))&(~(df['15K'] == '-'))&(~(df['20K'] == '-'))&(~(df['25K'] == '-')) &(~(df['30K'] == '-')) &(~(df['35K'] == '-')) &(~(df['40K'] == '-'))]\n",
    "df_split = df_split[df_split.split_ratio>0]\n",
    "\n",
    "\n",
    "prediction_df = df_split[['Age','M/F', 'Half_min', 'Full_min','split_ratio','5K_mins','10K_mins','15K_mins','20K_mins','25K_mins', '30K_mins', '35K_mins','40K_mins', 'stdev']] \n",
    "prediction_df['M/F'] = prediction_df['M/F'].apply(lambda x: gender_to_numeric(x))\n",
    "\n",
    "print(prediction_df)\n"
   ],
   "metadata": {
    "collapsed": false,
    "ExecuteTime": {
     "end_time": "2024-01-05T15:25:20.341993900Z",
     "start_time": "2024-01-05T15:25:14.715816300Z"
    }
   },
   "id": "7419e7682d430e6"
  },
  {
   "cell_type": "code",
   "execution_count": 7,
   "outputs": [
    {
     "name": "stdout",
     "output_type": "stream",
     "text": [
      "Linear Regression with Cross-Validation:\n",
      "Average RMSE: 19.660556482459114\n",
      "\n",
      "XGBoost Regressor with Cross-Validation:\n",
      "Average RMSE: 20.21243672890645\n"
     ]
    }
   ],
   "source": [
    "\n",
    "#----------------------------------------------------------------------------------------\n",
    "\n",
    "\n",
    "INDATA = ['Age','5K_mins','M/F']\n",
    "\n",
    "\n",
    "#--------------------------------------------------------------------------------------\n",
    "\n",
    "\n",
    "\n",
    "X_train = prediction_df[INDATA]\n",
    "y_train = prediction_df['Full_min']\n",
    "\n",
    "\n",
    "linear_model = LinearRegression()\n",
    "linear_cv_scores = cross_val_score(linear_model, X_train, y_train, cv=10, scoring='neg_mean_squared_error')\n",
    "linear_rmse_cv = np.sqrt(-linear_cv_scores.mean())\n",
    "\n",
    "print('Linear Regression with Cross-Validation:')\n",
    "print('Average RMSE:', linear_rmse_cv)\n",
    "\n",
    "# XGBoost Regressor with Cross-Validation\n",
    "xgb_model = XGBRegressor(n_estimators=2000, max_depth=5, learning_rate=0.005, reg_alpha=0.1, reg_lambda=0.1)\n",
    "xgb_cv_scores = cross_val_score(xgb_model, X_train, y_train, cv=10, scoring='neg_mean_squared_error')\n",
    "xgb_rmse_cv = np.sqrt(-xgb_cv_scores.mean())\n",
    "\n",
    "print('\\nXGBoost Regressor with Cross-Validation:')\n",
    "print('Average RMSE:', xgb_rmse_cv)\n",
    "\n",
    "#------------------------------------------------------------------------------------"
   ],
   "metadata": {
    "collapsed": false,
    "ExecuteTime": {
     "end_time": "2024-01-05T15:25:40.388158700Z",
     "start_time": "2024-01-05T15:25:20.344516700Z"
    }
   },
   "id": "45c8fdce89fada1d"
  },
  {
   "cell_type": "code",
   "execution_count": 8,
   "outputs": [
    {
     "name": "stdout",
     "output_type": "stream",
     "text": [
      "\n",
      "LinearRegression------------------------------\n",
      "R sqruare of regression... 0.7984226464541877\n",
      "RMSE of regression... 18.691406023015205\n",
      "\n",
      "XGBRegressor------------------------------\n",
      "Gradient Boosting Regression R Square... 0.8020408341107839\n",
      "RMSE of Graident Bossting Regression... 18.52289690593544\n"
     ]
    }
   ],
   "source": [
    "\n",
    "traindf, testdf = train_test_split(prediction_df, test_size = 0.2,random_state=60)\n",
    "\n",
    "X_train = traindf[INDATA]\n",
    "y_train = traindf['Full_min']\n",
    "\n",
    "X_test = testdf[INDATA]\n",
    "y_test = testdf['Full_min']\n",
    "\n",
    "\n",
    "XBG = XGBRegressor(n_estimators=2000, max_depth=5, learning_rate=0.005, reg_alpha=0.1, reg_lambda=0.1)\n",
    "XBG.fit(X_train, y_train)\n",
    "\n",
    "LinReg = LinearRegression()\n",
    "LinReg.fit(X_train,y_train)\n",
    "\n",
    "regression_prediction = LinReg.predict(X_test)\n",
    "regression_error = regression_prediction - y_test\n",
    "print('\\nLinearRegression------------------------------')\n",
    "print('R sqruare of regression...',LinReg.score(X_test,y_test))\n",
    "print('RMSE of regression...',sqrt(mean_squared_error(y_test, regression_prediction)))\n",
    "\n",
    "\n",
    "xgb_regression_prediction = XBG.predict(X_test)\n",
    "xgb_regression_error = xgb_regression_prediction - y_test\n",
    "print('\\nXGBRegressor------------------------------')\n",
    "print('Gradient Boosting Regression R Square...',XBG.score(X_test,y_test))\n",
    "print('RMSE of Graident Bossting Regression...',sqrt(mean_squared_error(y_test, xgb_regression_prediction)))\n"
   ],
   "metadata": {
    "collapsed": false,
    "ExecuteTime": {
     "end_time": "2024-01-05T15:25:42.613294300Z",
     "start_time": "2024-01-05T15:25:40.389164400Z"
    }
   },
   "id": "b6c1138d44634c68"
  },
  {
   "cell_type": "code",
   "execution_count": 9,
   "outputs": [
    {
     "data": {
      "text/plain": "<Figure size 640x480 with 1 Axes>",
      "image/png": "[encoded data removed]"
     },
     "metadata": {},
     "output_type": "display_data"
    }
   ],
   "source": [
    "\n",
    "sns.histplot(regression_error, bins=500, kde=False, label='Linear Regression')\n",
    "sns.histplot(xgb_regression_error, bins=500, kde=False, label='XGB Regression')\n",
    "plt.xlim(-50, 50)\n",
    "plt.title('Distribution of Prediction Errors')\n",
    "plt.xlabel('Error in minutes')\n",
    "plt.ylabel('Frequency')\n",
    "plt.legend(['Linear Regression','XGB Regression'], loc = 2)\n",
    "plt.show()"
   ],
   "metadata": {
    "collapsed": false,
    "ExecuteTime": {
     "end_time": "2024-01-05T15:25:43.700583300Z",
     "start_time": "2024-01-05T15:25:42.611265900Z"
    }
   },
   "id": "8cdf8712bd09feff"
  },
  {
   "cell_type": "code",
   "execution_count": 13,
   "outputs": [
    {
     "name": "stdout",
     "output_type": "stream",
     "text": [
      "\n",
      "Bias-Variance Analysis for Linear Regression:\n",
      "MSE: 349.3987560145129\n",
      "Bias: 349.37072498596183\n",
      "Variance: 0.028031028550976823\n",
      "\n",
      "Bias-Variance Analysis for XGBoost Regressor:\n",
      "MSE: 345.19733508163523\n",
      "Bias: 342.2653789287655\n",
      "Variance: 2.931956152869851\n"
     ]
    }
   ],
   "source": [
    "\n",
    "# Bias Variance Analysis\n",
    "from mlxtend.evaluate import bias_variance_decomp\n",
    "\n",
    "X_train = traindf[INDATA].values\n",
    "y_train = traindf['Full_min'].values\n",
    "\n",
    "X_test = testdf[INDATA].values\n",
    "y_test = testdf['Full_min'].values\n",
    "\n",
    "# Perform Bias-Variance analysis for Linear Regression\n",
    "linear_model = LinearRegression()\n",
    "linear_mse, linear_bias, linear_variance = bias_variance_decomp(linear_model, X_train, y_train, X_test, y_test, loss='mse', num_rounds=200, random_seed=1)\n",
    "\n",
    "# Perform Bias-Variance analysis for XGBoost Regressor\n",
    "xgb_model = XGBRegressor(n_estimators=2000, max_depth=5, learning_rate=0.005, reg_alpha=0.1, reg_lambda=0.1)\n",
    "xgb_mse, xgb_bias, xgb_variance= bias_variance_decomp(xgb_model, X_train, y_train, X_test, y_test, loss='mse', num_rounds=200, random_seed=1)\n",
    "\n",
    "print('\\nBias-Variance Analysis for Linear Regression:')\n",
    "print('MSE:', linear_mse)\n",
    "print('Bias:', linear_bias)\n",
    "print('Variance:', linear_variance)\n",
    "\n",
    "print('\\nBias-Variance Analysis for XGBoost Regressor:')\n",
    "print('MSE:', xgb_mse)\n",
    "print('Bias:', xgb_bias)\n",
    "print('Variance:', xgb_variance)\n"
   ],
   "metadata": {
    "collapsed": false,
    "ExecuteTime": {
     "end_time": "2024-01-05T15:48:56.497602100Z",
     "start_time": "2024-01-05T15:41:55.621603600Z"
    }
   },
   "id": "c8ef2d57914e5163"
  }
 ],
 "metadata": {
  "kernelspec": {
   "display_name": "Python 3",
   "language": "python",
   "name": "python3"
  },
  "language_info": {
   "codemirror_mode": {
    "name": "ipython",
    "version": 2
   },
   "file_extension": ".py",
   "mimetype": "text/x-python",
   "name": "python",
   "nbconvert_exporter": "python",
   "pygments_lexer": "ipython2",
   "version": "2.7.6"
  }
 },
 "nbformat": 4,
 "nbformat_minor": 5
}
